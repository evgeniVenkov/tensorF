{
 "cells": [
  {
   "metadata": {
    "ExecuteTime": {
     "end_time": "2025-04-26T12:29:36.568602Z",
     "start_time": "2025-04-26T12:29:25.682758Z"
    }
   },
   "cell_type": "code",
   "source": [
    "from tensorflow.keras.datasets import fashion_mnist\n",
    "\n",
    "(x_train, y_train), (x_test, y_test) = fashion_mnist.load_data()\n",
    "\n",
    "print(f\"Train data shape: {x_train.shape}, Labels shape: {y_train.shape}\")\n",
    "print(f\"Test data shape: {x_test.shape}, Labels shape: {y_test.shape}\")"
   ],
   "id": "4675ee6c5454ace6",
   "outputs": [
    {
     "name": "stdout",
     "output_type": "stream",
     "text": [
      "Downloading data from https://storage.googleapis.com/tensorflow/tf-keras-datasets/train-labels-idx1-ubyte.gz\n",
      "29515/29515 [==============================] - 0s 3us/step\n",
      "Downloading data from https://storage.googleapis.com/tensorflow/tf-keras-datasets/train-images-idx3-ubyte.gz\n",
      "26421880/26421880 [==============================] - 4s 0us/step\n",
      "Downloading data from https://storage.googleapis.com/tensorflow/tf-keras-datasets/t10k-labels-idx1-ubyte.gz\n",
      "5148/5148 [==============================] - 0s 0s/step\n",
      "Downloading data from https://storage.googleapis.com/tensorflow/tf-keras-datasets/t10k-images-idx3-ubyte.gz\n",
      "4422102/4422102 [==============================] - 1s 0us/step\n",
      "Train data shape: (60000, 28, 28), Labels shape: (60000,)\n",
      "Test data shape: (10000, 28, 28), Labels shape: (10000,)\n"
     ]
    }
   ],
   "execution_count": 1
  },
  {
   "metadata": {
    "ExecuteTime": {
     "end_time": "2025-04-26T12:30:00.687407Z",
     "start_time": "2025-04-26T12:30:00.219220Z"
    }
   },
   "cell_type": "code",
   "source": [
    "import matplotlib.pyplot as plt\n",
    "\n",
    "for i in range(5):\n",
    "    plt.subplot(1, 5, i + 1)\n",
    "    plt.imshow(x_train[i], cmap='gray')\n",
    "    plt.title(f\"Цифра: {y_train[i]}\")\n",
    "    plt.axis('off')\n",
    "plt.show()"
   ],
   "id": "302a68c4973792cd",
   "outputs": [
    {
     "data": {
      "text/plain": [
       "<Figure size 640x480 with 5 Axes>"
      ],
      "image/png": "[encoded data removed]"
     },
     "metadata": {},
     "output_type": "display_data"
    }
   ],
   "execution_count": 2
  },
  {
   "metadata": {
    "ExecuteTime": {
     "end_time": "2025-04-26T12:33:29.058848Z",
     "start_time": "2025-04-26T12:33:28.936128Z"
    }
   },
   "cell_type": "code",
   "source": [
    "x_train = x_train / 255.0\n",
    "x_test = x_test / 255.0"
   ],
   "id": "7602b16d815114a0",
   "outputs": [],
   "execution_count": 3
  },
  {
   "metadata": {
    "ExecuteTime": {
     "end_time": "2025-04-26T12:33:37.248473Z",
     "start_time": "2025-04-26T12:33:37.182600Z"
    }
   },
   "cell_type": "code",
   "source": [
    "from tensorflow.keras.models import Sequential\n",
    "from tensorflow.keras.layers import Dense, Flatten\n",
    "\n",
    "model = Sequential([\n",
    "    Flatten(input_shape=(28, 28)),\n",
    "    Dense(128, activation='relu'), \n",
    "    Dense(10, activation='softmax') \n",
    "])"
   ],
   "id": "6d132b0f5963e6e2",
   "outputs": [],
   "execution_count": 4
  },
  {
   "metadata": {
    "ExecuteTime": {
     "end_time": "2025-04-26T12:33:46.560307Z",
     "start_time": "2025-04-26T12:33:46.540268Z"
    }
   },
   "cell_type": "code",
   "source": [
    "model.compile(\n",
    "    optimizer='adam',\n",
    "    loss='sparse_categorical_crossentropy',\n",
    "    metrics=['accuracy']\n",
    ")"
   ],
   "id": "1578376ff0b3b4b9",
   "outputs": [],
   "execution_count": 5
  },
  {
   "metadata": {
    "ExecuteTime": {
     "end_time": "2025-04-26T12:34:11.731433Z",
     "start_time": "2025-04-26T12:34:02.536497Z"
    }
   },
   "cell_type": "code",
   "source": "model.fit(x_train, y_train, epochs=5, batch_size=32, validation_data=(x_test, y_test))",
   "id": "27514f2b1c56cbb4",
   "outputs": [
    {
     "name": "stdout",
     "output_type": "stream",
     "text": [
      "Epoch 1/5\n",
      "1875/1875 [==============================] - 2s 1ms/step - loss: 0.4969 - accuracy: 0.8255 - val_loss: 0.4576 - val_accuracy: 0.8322\n",
      "Epoch 2/5\n",
      "1875/1875 [==============================] - 2s 921us/step - loss: 0.3767 - accuracy: 0.8641 - val_loss: 0.3977 - val_accuracy: 0.8572\n",
      "Epoch 3/5\n",
      "1875/1875 [==============================] - 2s 905us/step - loss: 0.3365 - accuracy: 0.8781 - val_loss: 0.3731 - val_accuracy: 0.8669\n",
      "Epoch 4/5\n",
      "1875/1875 [==============================] - 2s 908us/step - loss: 0.3157 - accuracy: 0.8837 - val_loss: 0.3507 - val_accuracy: 0.8705\n",
      "Epoch 5/5\n",
      "1875/1875 [==============================] - 2s 944us/step - loss: 0.2967 - accuracy: 0.8892 - val_loss: 0.3552 - val_accuracy: 0.8701\n"
     ]
    },
    {
     "data": {
      "text/plain": [
       "<keras.callbacks.History at 0x18c209e6620>"
      ]
     },
     "execution_count": 6,
     "metadata": {},
     "output_type": "execute_result"
    }
   ],
   "execution_count": 6
  },
  {
   "metadata": {
    "ExecuteTime": {
     "end_time": "2025-04-26T12:34:29.656274Z",
     "start_time": "2025-04-26T12:34:29.390255Z"
    }
   },
   "cell_type": "code",
   "source": [
    "test_loss, test_accuracy = model.evaluate(x_test, y_test)\n",
    "print(f\"Точность модели на тестовых данных: {test_accuracy:.2f}\")"
   ],
   "id": "a38d0ce599f14568",
   "outputs": [
    {
     "name": "stdout",
     "output_type": "stream",
     "text": [
      "313/313 [==============================] - 0s 660us/step - loss: 0.3552 - accuracy: 0.8701\n",
      "Точность модели на тестовых данных: 0.87\n"
     ]
    }
   ],
   "execution_count": 7
  },
  {
   "metadata": {},
   "cell_type": "code",
   "outputs": [],
   "execution_count": null,
   "source": "",
   "id": "d9c3eb33fd1f4189"
  }
 ],
 "metadata": {
  "kernelspec": {
   "display_name": "Python 3",
   "language": "python",
   "name": "python3"
  },
  "language_info": {
   "codemirror_mode": {
    "name": "ipython",
    "version": 2
   },
   "file_extension": ".py",
   "mimetype": "text/x-python",
   "name": "python",
   "nbconvert_exporter": "python",
   "pygments_lexer": "ipython2",
   "version": "2.7.6"
  }
 },
 "nbformat": 4,
 "nbformat_minor": 5
}
