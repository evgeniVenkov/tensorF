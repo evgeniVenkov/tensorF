{
 "cells": [
  {
   "cell_type": "code",
   "id": "initial_id",
   "metadata": {
    "collapsed": true,
    "ExecuteTime": {
     "end_time": "2025-04-26T12:24:15.259652Z",
     "start_time": "2025-04-26T12:24:15.250392Z"
    }
   },
   "source": [
    "import tensorflow as tf\n",
    "from tensorflow import keras\n",
    "from tensorflow.keras import layers\n",
    "import numpy as np\n"
   ],
   "outputs": [],
   "execution_count": 20
  },
  {
   "metadata": {
    "ExecuteTime": {
     "end_time": "2025-04-26T12:24:15.711764Z",
     "start_time": "2025-04-26T12:24:15.698063Z"
    }
   },
   "cell_type": "code",
   "source": [
    "def sigmoid(x):\n",
    "    return 1 / (1 + np.exp(-x))"
   ],
   "id": "4ba42a027c7f3b50",
   "outputs": [],
   "execution_count": 21
  },
  {
   "metadata": {
    "ExecuteTime": {
     "end_time": "2025-04-26T12:24:16.459658Z",
     "start_time": "2025-04-26T12:24:16.273659Z"
    }
   },
   "cell_type": "code",
   "source": [
    "from tensorflow.keras.datasets import mnist\n",
    "\n",
    "(x_train, y_train), (x_test, y_test) = mnist.load_data()\n",
    "\n",
    "print(f\"Форма обучающих данных: {x_train.shape}\")  # (60000, 28, 28)\n",
    "print(f\"Форма тестовых данных: {x_test.shape}\")    # (10000, 28, 28)"
   ],
   "id": "3608aa0824a62b9f",
   "outputs": [
    {
     "name": "stdout",
     "output_type": "stream",
     "text": [
      "Форма обучающих данных: (60000, 28, 28)\n",
      "Форма тестовых данных: (10000, 28, 28)\n"
     ]
    }
   ],
   "execution_count": 22
  },
  {
   "metadata": {
    "ExecuteTime": {
     "end_time": "2025-04-26T12:24:17.345940Z",
     "start_time": "2025-04-26T12:24:17.245263Z"
    }
   },
   "cell_type": "code",
   "source": [
    "import matplotlib.pyplot as plt\n",
    "\n",
    "for i in range(5):\n",
    "    plt.subplot(1, 5, i + 1)\n",
    "    plt.imshow(x_train[i], cmap='gray')\n",
    "    plt.title(f\"Цифра: {y_train[i]}\")\n",
    "    plt.axis('off')\n",
    "plt.show()"
   ],
   "id": "226ace9aca9fd339",
   "outputs": [
    {
     "data": {
      "text/plain": [
       "<Figure size 640x480 with 5 Axes>"
      ],
      "image/png": "[encoded data removed]"
     },
     "metadata": {},
     "output_type": "display_data"
    }
   ],
   "execution_count": 23
  },
  {
   "metadata": {
    "ExecuteTime": {
     "end_time": "2025-04-26T12:24:18.033683Z",
     "start_time": "2025-04-26T12:24:17.925094Z"
    }
   },
   "cell_type": "code",
   "source": [
    "x_train = x_train / 255.0\n",
    "x_test = x_test / 255.0"
   ],
   "id": "47b4a753da318fc1",
   "outputs": [],
   "execution_count": 24
  },
  {
   "metadata": {
    "ExecuteTime": {
     "end_time": "2025-04-26T12:24:18.501571Z",
     "start_time": "2025-04-26T12:24:18.493798Z"
    }
   },
   "cell_type": "code",
   "source": [
    "x_train = x_train.reshape(-1,28*28)\n",
    "x_test = x_test.reshape(-1,28*28)\n",
    "\n",
    "print(f\"Новая форма данных: {x_train.shape}\")"
   ],
   "id": "a948e54a78c2c361",
   "outputs": [
    {
     "name": "stdout",
     "output_type": "stream",
     "text": [
      "Новая форма данных: (60000, 784)\n"
     ]
    }
   ],
   "execution_count": 25
  },
  {
   "metadata": {
    "ExecuteTime": {
     "end_time": "2025-04-26T12:24:19.078621Z",
     "start_time": "2025-04-26T12:24:19.065604Z"
    }
   },
   "cell_type": "code",
   "source": [
    "from tensorflow.keras.utils import to_categorical\n",
    "\n",
    "y_train = to_categorical(y_train, num_classes=10)\n",
    "y_test = to_categorical(y_test, num_classes=10)\n"
   ],
   "id": "47981fb763ec341e",
   "outputs": [],
   "execution_count": 26
  },
  {
   "metadata": {
    "ExecuteTime": {
     "end_time": "2025-04-26T12:24:19.609215Z",
     "start_time": "2025-04-26T12:24:19.583257Z"
    }
   },
   "cell_type": "code",
   "source": [
    "from tensorflow.keras.models import Sequential\n",
    "from tensorflow.keras.layers import Dense\n",
    "from tensorflow.keras.optimizers import Adam\n",
    "\n",
    "model = Sequential([\n",
    "    Dense(128, activation = 'relu', input_shape = (28*28,)),\n",
    "    Dense(10, activation= 'softmax')\n",
    "])\n",
    "\n",
    "model.compile(\n",
    "    optimizer = Adam(learning_rate = 0.001),\n",
    "    loss = 'categorical_crossentropy',\n",
    "    metrics = ['accuracy']\n",
    ")"
   ],
   "id": "797f6a1dc15f1a81",
   "outputs": [],
   "execution_count": 27
  },
  {
   "metadata": {
    "ExecuteTime": {
     "end_time": "2025-04-26T12:24:29.372913Z",
     "start_time": "2025-04-26T12:24:20.397060Z"
    }
   },
   "cell_type": "code",
   "source": [
    "history = model.fit(x_train, y_train,\n",
    "                    epochs = 5,\n",
    "                    batch_size = 32,\n",
    "                    validation_data = (x_test, y_test))"
   ],
   "id": "9af82f743df90fc4",
   "outputs": [
    {
     "name": "stdout",
     "output_type": "stream",
     "text": [
      "Epoch 1/5\n",
      "1875/1875 [==============================] - 2s 960us/step - loss: 0.2537 - accuracy: 0.9279 - val_loss: 0.1302 - val_accuracy: 0.9582\n",
      "Epoch 2/5\n",
      "1875/1875 [==============================] - 2s 907us/step - loss: 0.1130 - accuracy: 0.9668 - val_loss: 0.0953 - val_accuracy: 0.9704\n",
      "Epoch 3/5\n",
      "1875/1875 [==============================] - 2s 912us/step - loss: 0.0775 - accuracy: 0.9762 - val_loss: 0.0811 - val_accuracy: 0.9750\n",
      "Epoch 4/5\n",
      "1875/1875 [==============================] - 2s 917us/step - loss: 0.0586 - accuracy: 0.9821 - val_loss: 0.0761 - val_accuracy: 0.9764\n",
      "Epoch 5/5\n",
      "1875/1875 [==============================] - 2s 915us/step - loss: 0.0464 - accuracy: 0.9850 - val_loss: 0.0763 - val_accuracy: 0.9759\n"
     ]
    }
   ],
   "execution_count": 28
  },
  {
   "metadata": {
    "ExecuteTime": {
     "end_time": "2025-04-26T12:24:50.647129Z",
     "start_time": "2025-04-26T12:24:50.403651Z"
    }
   },
   "cell_type": "code",
   "source": [
    "test_loss, test_accuracy = model.evaluate(x_test, y_test)\n",
    "print(f\"Точность модели на тестовых данных: {test_accuracy:.2f}\")"
   ],
   "id": "66d2459f4e9de97a",
   "outputs": [
    {
     "name": "stdout",
     "output_type": "stream",
     "text": [
      "313/313 [==============================] - 0s 594us/step - loss: 0.0763 - accuracy: 0.9759\n",
      "Точность модели на тестовых данных: 0.98\n"
     ]
    }
   ],
   "execution_count": 29
  },
  {
   "metadata": {
    "ExecuteTime": {
     "end_time": "2025-04-26T12:25:08.422031Z",
     "start_time": "2025-04-26T12:25:08.400467Z"
    }
   },
   "cell_type": "code",
   "source": "model.save('./models/mnist_model.h5')",
   "id": "73d85a3721677e1c",
   "outputs": [],
   "execution_count": 30
  },
  {
   "metadata": {},
   "cell_type": "code",
   "outputs": [],
   "execution_count": null,
   "source": "",
   "id": "156e5de92447fb45"
  }
 ],
 "metadata": {
  "kernelspec": {
   "display_name": "Python 3",
   "language": "python",
   "name": "python3"
  },
  "language_info": {
   "codemirror_mode": {
    "name": "ipython",
    "version": 2
   },
   "file_extension": ".py",
   "mimetype": "text/x-python",
   "name": "python",
   "nbconvert_exporter": "python",
   "pygments_lexer": "ipython2",
   "version": "2.7.6"
  }
 },
 "nbformat": 4,
 "nbformat_minor": 5
}
